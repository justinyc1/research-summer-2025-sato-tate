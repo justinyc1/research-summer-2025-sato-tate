{
 "cells": [
  {
   "cell_type": "code",
   "execution_count": 2,
   "id": "7ddbf0",
   "metadata": {
    "collapsed": false
   },
   "outputs": [
   ],
   "source": [
    "%load_ext sage"
   ]
  },
  {
   "cell_type": "code",
   "execution_count": 3,
   "id": "58338d",
   "metadata": {
    "collapsed": false
   },
   "outputs": [
    {
     "name": "stdout",
     "output_type": "stream",
     "text": [
      "[{8, 17, 12, 5}, {8, 18, 11, 5}, {19, 12, 5, 6}, {11, 20, 5, 6}, {16, 9, 4, 13}, {9, 18, 11, 4}, {19, 4, 13, 6}, {16, 10, 3, 13}, {17, 10, 3, 12}, {3, 20, 13, 6}, {16, 9, 2, 15}, {9, 2, 11, 20}, {8, 17, 2, 15}, {17, 2, 3, 20}, {16, 1, 10, 15}, {1, 10, 19, 12}, {8, 1, 18, 15}, {1, 18, 19, 4}]\n",
      "[{4, 20, 6, 9, 11, 13}, {18, 19, 4, 5, 6, 11}, {3, 19, 6, 10, 12, 13}, {17, 3, 20, 5, 6, 12}, {2, 18, 8, 9, 11, 15}, {17, 2, 20, 5, 8, 11}, {16, 17, 2, 3, 10, 15}, {16, 2, 3, 20, 9, 13}, {1, 17, 8, 10, 12, 15}, {1, 18, 19, 5, 8, 12}, {16, 1, 19, 4, 10, 13}, {16, 1, 18, 4, 9, 15}]\n",
      "\n",
      "[]\n",
      "[{17, 2, 20, 5, 8, 11}, {16, 1, 19, 4, 10, 13}]\n"
     ]
    }
   ],
   "source": [
    "load('ShiodaTheorem5_2.sage')\n",
    "\n",
    "m=21\n",
    "save(Bset(m,1,'./Data/U_m21_d1'), './Data/B_m21_d1')\n",
    "save(Bset(m,2,'./Data/U_m21_d2'), './Data/B_m21_d2')\n",
    "save(Bset(m,3,'./Data/U_m21_d3'), './Data/B_m21_d3')\n",
    "\n",
    "\n",
    "save(Exceptional(m,2, './Data/B_m21_d1','./Data/B_m21_d2', './Data/B_m21_d3'), './Data/E_m21_d2')\n",
    "save(Exceptional(m,3, './Data/B_m21_d1','./Data/B_m21_d2', './Data/B_m21_d3'), './Data/E_m21_d3')\n",
    "\n",
    "save(Exceptionalrelprime(m,2,'./Data/E_m21_d2'), './Data/ERP_m21_d2')\n",
    "save(Exceptionalrelprime(m,3,'./Data/E_m21_d3'), './Data/ERP_m21_d3')\n",
    "\n",
    "#These are the exceptional Hodge cycles in codimension 2 and 3\n",
    "print(load('./Data/E_m21_d2'))\n",
    "print(load('./Data/E_m21_d3'))\n",
    "print(\"\")\n",
    "\n",
    "#These are the exceptional Hodge cycles in codimension 2 and 3 whose entries are relatively prime to m\n",
    "print(load('./Data/ERP_m21_d2')) #empty output since no exceptional cycles in codim 2 meet the criteria\n",
    "print(load('./Data/ERP_m21_d3'))"
   ]
  },
  {
   "cell_type": "code",
   "execution_count": 4,
   "id": "212a4d",
   "metadata": {
    "collapsed": false
   },
   "outputs": [
    {
     "name": "stdout",
     "output_type": "stream",
     "text": [
      "[{24, 9, 6, 15}, {16, 25, 6, 7}, {12, 5, 14, 23}, {4, 13, 22, 15}, {18, 3, 12, 21}, {8, 17, 26, 3}, {2, 11, 20, 21}, {24, 1, 10, 19}]\n",
      "[{17, 6, 8, 9, 26, 15}, {5, 6, 23, 24, 9, 14}, {16, 18, 3, 7, 25, 12}, {18, 3, 4, 21, 22, 13}, {2, 20, 24, 9, 11, 15}, {1, 18, 19, 21, 10, 12}]\n",
      "\n",
      "[]\n",
      "[]\n"
     ]
    }
   ],
   "source": [
    "#Another example\n",
    "m=27\n",
    "save(Bset(m,1,'./Data/U_m27_d1'), './Data/B_m27_d1')\n",
    "save(Bset(m,2,'./Data/U_m27_d2'), './Data/B_m27_d2')\n",
    "save(Bset(m,3,'./Data/U_m27_d3'), './Data/B_m27_d3')\n",
    "\n",
    "\n",
    "save(Exceptional(m,2, './Data/B_m27_d1','./Data/B_m27_d2', './Data/B_m27_d3'), './Data/E_m27_d2')\n",
    "save(Exceptional(m,3, './Data/B_m27_d1','./Data/B_m27_d2', './Data/B_m27_d3'), './Data/E_m27_d3')\n",
    "\n",
    "save(Exceptionalrelprime(m,2,'./Data/E_m27_d2'), './Data/ERP_m27_d2')\n",
    "save(Exceptionalrelprime(m,3,'./Data/E_m27_d3'), './Data/ERP_m27_d3')\n",
    "\n",
    "#These are the exceptional Hodge cycles in codimension 2 and 3\n",
    "print(load('./Data/E_m27_d2'))\n",
    "print(load('./Data/E_m27_d3'))\n",
    "print(\"\")\n",
    "\n",
    "#These are the exceptional Hodge cycles in codimension 2 and 3 whose entries are relatively prime to m\n",
    "print(load('./Data/ERP_m27_d2')) #empty output since no exceptional cycles in codim 2 meet the criteria\n",
    "print(load('./Data/ERP_m27_d3')) #empty output since no exceptional cycles in codim 3 meet the criteria"
   ]
  },
  {
   "cell_type": "code",
   "execution_count": 5,
   "id": "946b3e",
   "metadata": {
    "collapsed": false
   },
   "outputs": [
    {
     "data": {
      "text/html": "<html>\\(\\displaystyle \\left(\\begin{array}{rrrrrrrr}\n1 & 1 & 1 & 0 & 0 & 0 & 1 & 0 \\\\\n0 & 1 & 1 & 0 & 0 & 1 & 0 & 1 \\\\\n0 & 0 & 1 & 0 & 1 & 1 & 1 & 0 \\\\\n1 & 1 & 0 & 1 & 0 & 0 & 0 & 1 \\\\\n1 & 0 & 0 & 1 & 1 & 0 & 1 & 0 \\\\\n0 & 0 & 0 & 1 & 1 & 1 & 0 & 1\n\\end{array}\\right)\\)</html>",
      "text/latex": [
       "$\\displaystyle \\left(\\begin{array}{rrrrrrrr}\n",
       "1 & 1 & 1 & 0 & 0 & 0 & 1 & 0 \\\\\n",
       "0 & 1 & 1 & 0 & 0 & 1 & 0 & 1 \\\\\n",
       "0 & 0 & 1 & 0 & 1 & 1 & 1 & 0 \\\\\n",
       "1 & 1 & 0 & 1 & 0 & 0 & 0 & 1 \\\\\n",
       "1 & 0 & 0 & 1 & 1 & 0 & 1 & 0 \\\\\n",
       "0 & 0 & 0 & 1 & 1 & 1 & 0 & 1\n",
       "\\end{array}\\right)$"
      ],
      "text/plain": [
       "[1 1 1 0 0 0 1 0]\n",
       "[0 1 1 0 0 1 0 1]\n",
       "[0 0 1 0 1 1 1 0]\n",
       "[1 1 0 1 0 0 0 1]\n",
       "[1 0 0 1 1 0 1 0]\n",
       "[0 0 0 1 1 1 0 1]"
      ]
     },
     "execution_count": 5,
     "metadata": {
     },
     "output_type": "execute_result"
    },
    {
     "data": {
      "text/html": "<html>\\(\\displaystyle \\left(\\begin{array}{rrrrrrrrrrrrrrrrrrrrrrrrrr}\n1 & 1 & 1 & 1 & 1 & 1 & 1 & 1 & 1 & 0 & 0 & 0 & 0 & 0 & 0 & 0 & 0 & 0 & 1 & 1 & 1 & 0 & 0 & 0 & 1 & 0 \\\\\n0 & 1 & 1 & 0 & 0 & 1 & 1 & 0 & 0 & 1 & 1 & 0 & 0 & 1 & 1 & 0 & 0 & 1 & 0 & 1 & 1 & 0 & 0 & 1 & 0 & 1 \\\\\n1 & 0 & 1 & 1 & 0 & 1 & 0 & 0 & 1 & 0 & 1 & 1 & 0 & 1 & 0 & 0 & 1 & 0 & 0 & 0 & 1 & 0 & 1 & 1 & 1 & 0 \\\\\n1 & 0 & 0 & 1 & 0 & 1 & 1 & 1 & 1 & 0 & 0 & 0 & 0 & 1 & 0 & 1 & 1 & 0 & 1 & 1 & 0 & 1 & 0 & 0 & 0 & 1 \\\\\n1 & 1 & 0 & 0 & 1 & 1 & 1 & 0 & 0 & 1 & 1 & 0 & 0 & 0 & 1 & 1 & 0 & 0 & 1 & 0 & 0 & 1 & 1 & 0 & 1 & 0 \\\\\n0 & 1 & 0 & 1 & 1 & 1 & 1 & 0 & 1 & 0 & 1 & 0 & 0 & 0 & 0 & 1 & 0 & 1 & 0 & 0 & 0 & 1 & 1 & 1 & 0 & 1 \\\\\n0 & 1 & 0 & 0 & 0 & 0 & 1 & 0 & 1 & 0 & 1 & 0 & 1 & 1 & 1 & 1 & 0 & 1 & 1 & 1 & 1 & 0 & 0 & 0 & 1 & 0 \\\\\n1 & 1 & 0 & 0 & 1 & 1 & 0 & 1 & 1 & 0 & 0 & 1 & 0 & 0 & 1 & 1 & 0 & 0 & 0 & 1 & 1 & 0 & 0 & 1 & 0 & 1 \\\\\n0 & 0 & 0 & 0 & 1 & 1 & 1 & 1 & 1 & 0 & 0 & 0 & 0 & 0 & 1 & 1 & 1 & 1 & 0 & 0 & 1 & 0 & 1 & 1 & 1 & 0 \\\\\n1 & 1 & 1 & 1 & 0 & 0 & 0 & 0 & 0 & 1 & 1 & 1 & 1 & 1 & 0 & 0 & 0 & 0 & 1 & 1 & 0 & 1 & 0 & 0 & 0 & 1 \\\\\n0 & 0 & 1 & 1 & 0 & 0 & 1 & 0 & 0 & 1 & 1 & 0 & 1 & 1 & 0 & 0 & 1 & 1 & 1 & 0 & 0 & 1 & 1 & 0 & 1 & 0 \\\\\n1 & 0 & 1 & 1 & 1 & 1 & 0 & 1 & 0 & 1 & 0 & 1 & 0 & 0 & 0 & 0 & 1 & 0 & 0 & 0 & 0 & 1 & 1 & 1 & 0 & 1 \\\\\n1 & 0 & 1 & 0 & 0 & 0 & 0 & 1 & 0 & 1 & 0 & 1 & 1 & 1 & 1 & 0 & 1 & 0 & 1 & 1 & 1 & 0 & 0 & 0 & 1 & 0 \\\\\n0 & 0 & 1 & 1 & 0 & 0 & 0 & 1 & 1 & 0 & 0 & 1 & 1 & 1 & 0 & 0 & 1 & 1 & 0 & 1 & 1 & 0 & 0 & 1 & 0 & 1 \\\\\n0 & 1 & 1 & 0 & 1 & 0 & 0 & 0 & 0 & 1 & 1 & 1 & 1 & 0 & 1 & 0 & 0 & 1 & 0 & 0 & 1 & 0 & 1 & 1 & 1 & 0 \\\\\n0 & 1 & 0 & 0 & 1 & 0 & 1 & 1 & 0 & 1 & 0 & 0 & 1 & 0 & 1 & 1 & 0 & 1 & 1 & 1 & 0 & 1 & 0 & 0 & 0 & 1 \\\\\n1 & 0 & 0 & 1 & 1 & 0 & 0 & 1 & 1 & 0 & 0 & 1 & 1 & 0 & 0 & 1 & 1 & 0 & 1 & 0 & 0 & 1 & 1 & 0 & 1 & 0 \\\\\n0 & 0 & 0 & 0 & 0 & 0 & 0 & 0 & 0 & 1 & 1 & 1 & 1 & 1 & 1 & 1 & 1 & 1 & 0 & 0 & 0 & 1 & 1 & 1 & 0 & 1\n\\end{array}\\right)\\)</html>",
      "text/latex": [
       "$\\displaystyle \\left(\\begin{array}{rrrrrrrrrrrrrrrrrrrrrrrrrr}\n",
       "1 & 1 & 1 & 1 & 1 & 1 & 1 & 1 & 1 & 0 & 0 & 0 & 0 & 0 & 0 & 0 & 0 & 0 & 1 & 1 & 1 & 0 & 0 & 0 & 1 & 0 \\\\\n",
       "0 & 1 & 1 & 0 & 0 & 1 & 1 & 0 & 0 & 1 & 1 & 0 & 0 & 1 & 1 & 0 & 0 & 1 & 0 & 1 & 1 & 0 & 0 & 1 & 0 & 1 \\\\\n",
       "1 & 0 & 1 & 1 & 0 & 1 & 0 & 0 & 1 & 0 & 1 & 1 & 0 & 1 & 0 & 0 & 1 & 0 & 0 & 0 & 1 & 0 & 1 & 1 & 1 & 0 \\\\\n",
       "1 & 0 & 0 & 1 & 0 & 1 & 1 & 1 & 1 & 0 & 0 & 0 & 0 & 1 & 0 & 1 & 1 & 0 & 1 & 1 & 0 & 1 & 0 & 0 & 0 & 1 \\\\\n",
       "1 & 1 & 0 & 0 & 1 & 1 & 1 & 0 & 0 & 1 & 1 & 0 & 0 & 0 & 1 & 1 & 0 & 0 & 1 & 0 & 0 & 1 & 1 & 0 & 1 & 0 \\\\\n",
       "0 & 1 & 0 & 1 & 1 & 1 & 1 & 0 & 1 & 0 & 1 & 0 & 0 & 0 & 0 & 1 & 0 & 1 & 0 & 0 & 0 & 1 & 1 & 1 & 0 & 1 \\\\\n",
       "0 & 1 & 0 & 0 & 0 & 0 & 1 & 0 & 1 & 0 & 1 & 0 & 1 & 1 & 1 & 1 & 0 & 1 & 1 & 1 & 1 & 0 & 0 & 0 & 1 & 0 \\\\\n",
       "1 & 1 & 0 & 0 & 1 & 1 & 0 & 1 & 1 & 0 & 0 & 1 & 0 & 0 & 1 & 1 & 0 & 0 & 0 & 1 & 1 & 0 & 0 & 1 & 0 & 1 \\\\\n",
       "0 & 0 & 0 & 0 & 1 & 1 & 1 & 1 & 1 & 0 & 0 & 0 & 0 & 0 & 1 & 1 & 1 & 1 & 0 & 0 & 1 & 0 & 1 & 1 & 1 & 0 \\\\\n",
       "1 & 1 & 1 & 1 & 0 & 0 & 0 & 0 & 0 & 1 & 1 & 1 & 1 & 1 & 0 & 0 & 0 & 0 & 1 & 1 & 0 & 1 & 0 & 0 & 0 & 1 \\\\\n",
       "0 & 0 & 1 & 1 & 0 & 0 & 1 & 0 & 0 & 1 & 1 & 0 & 1 & 1 & 0 & 0 & 1 & 1 & 1 & 0 & 0 & 1 & 1 & 0 & 1 & 0 \\\\\n",
       "1 & 0 & 1 & 1 & 1 & 1 & 0 & 1 & 0 & 1 & 0 & 1 & 0 & 0 & 0 & 0 & 1 & 0 & 0 & 0 & 0 & 1 & 1 & 1 & 0 & 1 \\\\\n",
       "1 & 0 & 1 & 0 & 0 & 0 & 0 & 1 & 0 & 1 & 0 & 1 & 1 & 1 & 1 & 0 & 1 & 0 & 1 & 1 & 1 & 0 & 0 & 0 & 1 & 0 \\\\\n",
       "0 & 0 & 1 & 1 & 0 & 0 & 0 & 1 & 1 & 0 & 0 & 1 & 1 & 1 & 0 & 0 & 1 & 1 & 0 & 1 & 1 & 0 & 0 & 1 & 0 & 1 \\\\\n",
       "0 & 1 & 1 & 0 & 1 & 0 & 0 & 0 & 0 & 1 & 1 & 1 & 1 & 0 & 1 & 0 & 0 & 1 & 0 & 0 & 1 & 0 & 1 & 1 & 1 & 0 \\\\\n",
       "0 & 1 & 0 & 0 & 1 & 0 & 1 & 1 & 0 & 1 & 0 & 0 & 1 & 0 & 1 & 1 & 0 & 1 & 1 & 1 & 0 & 1 & 0 & 0 & 0 & 1 \\\\\n",
       "1 & 0 & 0 & 1 & 1 & 0 & 0 & 1 & 1 & 0 & 0 & 1 & 1 & 0 & 0 & 1 & 1 & 0 & 1 & 0 & 0 & 1 & 1 & 0 & 1 & 0 \\\\\n",
       "0 & 0 & 0 & 0 & 0 & 0 & 0 & 0 & 0 & 1 & 1 & 1 & 1 & 1 & 1 & 1 & 1 & 1 & 0 & 0 & 0 & 1 & 1 & 1 & 0 & 1\n",
       "\\end{array}\\right)$"
      ],
      "text/plain": [
       "[1 1 1 1 1 1 1 1 1 0 0 0 0 0 0 0 0 0 1 1 1 0 0 0 1 0]\n",
       "[0 1 1 0 0 1 1 0 0 1 1 0 0 1 1 0 0 1 0 1 1 0 0 1 0 1]\n",
       "[1 0 1 1 0 1 0 0 1 0 1 1 0 1 0 0 1 0 0 0 1 0 1 1 1 0]\n",
       "[1 0 0 1 0 1 1 1 1 0 0 0 0 1 0 1 1 0 1 1 0 1 0 0 0 1]\n",
       "[1 1 0 0 1 1 1 0 0 1 1 0 0 0 1 1 0 0 1 0 0 1 1 0 1 0]\n",
       "[0 1 0 1 1 1 1 0 1 0 1 0 0 0 0 1 0 1 0 0 0 1 1 1 0 1]\n",
       "[0 1 0 0 0 0 1 0 1 0 1 0 1 1 1 1 0 1 1 1 1 0 0 0 1 0]\n",
       "[1 1 0 0 1 1 0 1 1 0 0 1 0 0 1 1 0 0 0 1 1 0 0 1 0 1]\n",
       "[0 0 0 0 1 1 1 1 1 0 0 0 0 0 1 1 1 1 0 0 1 0 1 1 1 0]\n",
       "[1 1 1 1 0 0 0 0 0 1 1 1 1 1 0 0 0 0 1 1 0 1 0 0 0 1]\n",
       "[0 0 1 1 0 0 1 0 0 1 1 0 1 1 0 0 1 1 1 0 0 1 1 0 1 0]\n",
       "[1 0 1 1 1 1 0 1 0 1 0 1 0 0 0 0 1 0 0 0 0 1 1 1 0 1]\n",
       "[1 0 1 0 0 0 0 1 0 1 0 1 1 1 1 0 1 0 1 1 1 0 0 0 1 0]\n",
       "[0 0 1 1 0 0 0 1 1 0 0 1 1 1 0 0 1 1 0 1 1 0 0 1 0 1]\n",
       "[0 1 1 0 1 0 0 0 0 1 1 1 1 0 1 0 0 1 0 0 1 0 1 1 1 0]\n",
       "[0 1 0 0 1 0 1 1 0 1 0 0 1 0 1 1 0 1 1 1 0 1 0 0 0 1]\n",
       "[1 0 0 1 1 0 0 1 1 0 0 1 1 0 0 1 1 0 1 0 0 1 1 0 1 0]\n",
       "[0 0 0 0 0 0 0 0 0 1 1 1 1 1 1 1 1 1 0 0 0 1 1 1 0 1]"
      ]
     },
     "execution_count": 5,
     "metadata": {
     },
     "output_type": "execute_result"
    }
   ],
   "source": [
    "load('MumfordTateMatrix.sage')\n",
    "\n",
    "p=3\n",
    "\n",
    "#The character map for J_{p^2} as a matrix M\n",
    "show(MT_matrix_p2(p))\n",
    "\n",
    "#The character map for J_{p^3} as a matrix M\n",
    "show(MT_matrix_p3(p))"
   ]
  },
  {
   "cell_type": "code",
   "execution_count": 6,
   "id": "8c593c",
   "metadata": {
    "collapsed": false
   },
   "outputs": [
    {
     "name": "stdout",
     "output_type": "stream",
     "text": [
      "1\n",
      "1\n"
     ]
    }
   ],
   "source": [
    "#Test to see if the projection MT(X x J_{p}) --> MT(X) is an isomorphism or isogeny\n",
    "#output is 1 is it is an isomorphism\n",
    "print(degreekernel2(p))\n",
    "\n",
    "#Test to see if the projection MT(X1 x X2 x J_{p}) --> MT(X1) is an isomorphism or isogeny\n",
    "#output is 1 is it is an isomorphism\n",
    "print(degreekernel3(p))"
   ]
  },
  {
   "cell_type": "code",
   "execution_count": 0,
   "id": "c44405",
   "metadata": {
    "collapsed": false
   },
   "outputs": [
   ],
   "source": [
   ]
  }
 ],
 "metadata": {
  "kernelspec": {
   "argv": [
    "sage-9.6",
    "--python",
    "-m",
    "sage.repl.ipython_kernel",
    "--matplotlib=inline",
    "-f",
    "{connection_file}"
   ],
   "display_name": "SageMath 9.6",
   "env": {
   },
   "language": "sagemath",
   "metadata": {
    "cocalc": {
     "description": "Open-source mathematical software system",
     "priority": 1,
     "url": "https://www.sagemath.org/"
    }
   },
   "name": "sage-9.6",
   "resource_dir": "/ext/jupyter/kernels/sage-9.6"
  },
  "language_info": {
   "codemirror_mode": {
    "name": "ipython",
    "version": 3
   },
   "file_extension": ".py",
   "mimetype": "text/x-python",
   "name": "python",
   "nbconvert_exporter": "python",
   "pygments_lexer": "ipython3",
   "version": "3.10.3"
  }
 },
 "nbformat": 4,
 "nbformat_minor": 4
}